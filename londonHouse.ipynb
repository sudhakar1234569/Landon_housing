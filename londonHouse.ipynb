{
 "cells": [
  {
   "cell_type": "markdown",
   "metadata": {},
   "source": [
    "## Big Data Analysis\n",
    "### London Housing DATASET\n",
    "\n",
    "The data used here is from year 1995 to 2019 of each different area\n",
    "\n",
    "I'm analysis this data using the pandas data frame."
   ]
  },
  {
   "cell_type": "code",
   "execution_count": 11,
   "metadata": {},
   "outputs": [],
   "source": [
    "import pandas as pd\n",
    "import seaborn as sns\n",
    "import matplotlib.pyplot as plt"
   ]
  },
  {
   "cell_type": "code",
   "execution_count": 150,
   "metadata": {},
   "outputs": [],
   "source": [
    "#Load the csv file\n",
    "df = pd.read_csv('london_house.csv')"
   ]
  },
  {
   "cell_type": "code",
   "execution_count": 66,
   "metadata": {},
   "outputs": [
    {
     "data": {
      "text/html": [
       "<div>\n",
       "<style scoped>\n",
       "    .dataframe tbody tr th:only-of-type {\n",
       "        vertical-align: middle;\n",
       "    }\n",
       "\n",
       "    .dataframe tbody tr th {\n",
       "        vertical-align: top;\n",
       "    }\n",
       "\n",
       "    .dataframe thead th {\n",
       "        text-align: right;\n",
       "    }\n",
       "</style>\n",
       "<table border=\"1\" class=\"dataframe\">\n",
       "  <thead>\n",
       "    <tr style=\"text-align: right;\">\n",
       "      <th></th>\n",
       "      <th>date</th>\n",
       "      <th>area</th>\n",
       "      <th>average_price</th>\n",
       "      <th>code</th>\n",
       "      <th>houses_sold</th>\n",
       "      <th>no_of_crimes</th>\n",
       "    </tr>\n",
       "  </thead>\n",
       "  <tbody>\n",
       "    <tr>\n",
       "      <th>0</th>\n",
       "      <td>1/1/1995</td>\n",
       "      <td>city of london</td>\n",
       "      <td>91449</td>\n",
       "      <td>E09000001</td>\n",
       "      <td>17.0</td>\n",
       "      <td>NaN</td>\n",
       "    </tr>\n",
       "    <tr>\n",
       "      <th>1</th>\n",
       "      <td>2/1/1995</td>\n",
       "      <td>city of london</td>\n",
       "      <td>82203</td>\n",
       "      <td>E09000001</td>\n",
       "      <td>7.0</td>\n",
       "      <td>NaN</td>\n",
       "    </tr>\n",
       "    <tr>\n",
       "      <th>2</th>\n",
       "      <td>3/1/1995</td>\n",
       "      <td>city of london</td>\n",
       "      <td>79121</td>\n",
       "      <td>E09000001</td>\n",
       "      <td>14.0</td>\n",
       "      <td>NaN</td>\n",
       "    </tr>\n",
       "    <tr>\n",
       "      <th>3</th>\n",
       "      <td>4/1/1995</td>\n",
       "      <td>city of london</td>\n",
       "      <td>77101</td>\n",
       "      <td>E09000001</td>\n",
       "      <td>7.0</td>\n",
       "      <td>NaN</td>\n",
       "    </tr>\n",
       "    <tr>\n",
       "      <th>4</th>\n",
       "      <td>5/1/1995</td>\n",
       "      <td>city of london</td>\n",
       "      <td>84409</td>\n",
       "      <td>E09000001</td>\n",
       "      <td>10.0</td>\n",
       "      <td>NaN</td>\n",
       "    </tr>\n",
       "  </tbody>\n",
       "</table>\n",
       "</div>"
      ],
      "text/plain": [
       "       date            area  average_price       code  houses_sold  \\\n",
       "0  1/1/1995  city of london          91449  E09000001         17.0   \n",
       "1  2/1/1995  city of london          82203  E09000001          7.0   \n",
       "2  3/1/1995  city of london          79121  E09000001         14.0   \n",
       "3  4/1/1995  city of london          77101  E09000001          7.0   \n",
       "4  5/1/1995  city of london          84409  E09000001         10.0   \n",
       "\n",
       "   no_of_crimes  \n",
       "0           NaN  \n",
       "1           NaN  \n",
       "2           NaN  \n",
       "3           NaN  \n",
       "4           NaN  "
      ]
     },
     "execution_count": 66,
     "metadata": {},
     "output_type": "execute_result"
    }
   ],
   "source": [
    "df.head()"
   ]
  },
  {
   "cell_type": "code",
   "execution_count": 151,
   "metadata": {},
   "outputs": [
    {
     "data": {
      "text/plain": [
       "(13549, 6)"
      ]
     },
     "execution_count": 151,
     "metadata": {},
     "output_type": "execute_result"
    }
   ],
   "source": [
    "# No.of rows and columns\n",
    "df.shape"
   ]
  },
  {
   "cell_type": "code",
   "execution_count": 152,
   "metadata": {},
   "outputs": [
    {
     "name": "stdout",
     "output_type": "stream",
     "text": [
      "<class 'pandas.core.frame.DataFrame'>\n",
      "RangeIndex: 13549 entries, 0 to 13548\n",
      "Data columns (total 6 columns):\n",
      " #   Column         Non-Null Count  Dtype  \n",
      "---  ------         --------------  -----  \n",
      " 0   date           13549 non-null  object \n",
      " 1   area           13549 non-null  object \n",
      " 2   average_price  13549 non-null  int64  \n",
      " 3   code           13549 non-null  object \n",
      " 4   houses_sold    13455 non-null  float64\n",
      " 5   no_of_crimes   7439 non-null   float64\n",
      "dtypes: float64(2), int64(1), object(3)\n",
      "memory usage: 635.2+ KB\n"
     ]
    }
   ],
   "source": [
    "#Information about our dataset\n",
    "df.info()"
   ]
  },
  {
   "cell_type": "code",
   "execution_count": 68,
   "metadata": {},
   "outputs": [
    {
     "data": {
      "text/plain": [
       "date             13549\n",
       "area             13549\n",
       "average_price    13549\n",
       "code             13549\n",
       "houses_sold      13455\n",
       "no_of_crimes      7439\n",
       "dtype: int64"
      ]
     },
     "execution_count": 68,
     "metadata": {},
     "output_type": "execute_result"
    }
   ],
   "source": [
    "df.count()"
   ]
  },
  {
   "cell_type": "code",
   "execution_count": 69,
   "metadata": {},
   "outputs": [
    {
     "data": {
      "text/plain": [
       "date                0\n",
       "area                0\n",
       "average_price       0\n",
       "code                0\n",
       "houses_sold        94\n",
       "no_of_crimes     6110\n",
       "dtype: int64"
      ]
     },
     "execution_count": 69,
     "metadata": {},
     "output_type": "execute_result"
    }
   ],
   "source": [
    "# Find the NULL values\n",
    "df.isnull().sum()"
   ]
  },
  {
   "cell_type": "code",
   "execution_count": 13,
   "metadata": {},
   "outputs": [
    {
     "data": {
      "image/png": "[encoded data removed]",
      "text/plain": [
       "<Figure size 432x288 with 2 Axes>"
      ]
     },
     "metadata": {
      "needs_background": "light"
     },
     "output_type": "display_data"
    }
   ],
   "source": [
    "# Visualize the NULL values:\n",
    "sns.heatmap(df.isnull())\n",
    "plt.show()"
   ]
  },
  {
   "cell_type": "markdown",
   "metadata": {},
   "source": [
    "### Convert the datatype date to date-time format"
   ]
  },
  {
   "cell_type": "code",
   "execution_count": 72,
   "metadata": {},
   "outputs": [],
   "source": [
    "df['date'] = pd.to_datetime(df['date'])"
   ]
  },
  {
   "cell_type": "code",
   "execution_count": 73,
   "metadata": {},
   "outputs": [
    {
     "data": {
      "text/html": [
       "<div>\n",
       "<style scoped>\n",
       "    .dataframe tbody tr th:only-of-type {\n",
       "        vertical-align: middle;\n",
       "    }\n",
       "\n",
       "    .dataframe tbody tr th {\n",
       "        vertical-align: top;\n",
       "    }\n",
       "\n",
       "    .dataframe thead th {\n",
       "        text-align: right;\n",
       "    }\n",
       "</style>\n",
       "<table border=\"1\" class=\"dataframe\">\n",
       "  <thead>\n",
       "    <tr style=\"text-align: right;\">\n",
       "      <th></th>\n",
       "      <th>date</th>\n",
       "      <th>area</th>\n",
       "      <th>average_price</th>\n",
       "      <th>code</th>\n",
       "      <th>houses_sold</th>\n",
       "      <th>no_of_crimes</th>\n",
       "    </tr>\n",
       "  </thead>\n",
       "  <tbody>\n",
       "    <tr>\n",
       "      <th>0</th>\n",
       "      <td>1995-01-01</td>\n",
       "      <td>city of london</td>\n",
       "      <td>91449</td>\n",
       "      <td>E09000001</td>\n",
       "      <td>17.0</td>\n",
       "      <td>NaN</td>\n",
       "    </tr>\n",
       "    <tr>\n",
       "      <th>1</th>\n",
       "      <td>1995-02-01</td>\n",
       "      <td>city of london</td>\n",
       "      <td>82203</td>\n",
       "      <td>E09000001</td>\n",
       "      <td>7.0</td>\n",
       "      <td>NaN</td>\n",
       "    </tr>\n",
       "    <tr>\n",
       "      <th>2</th>\n",
       "      <td>1995-03-01</td>\n",
       "      <td>city of london</td>\n",
       "      <td>79121</td>\n",
       "      <td>E09000001</td>\n",
       "      <td>14.0</td>\n",
       "      <td>NaN</td>\n",
       "    </tr>\n",
       "    <tr>\n",
       "      <th>3</th>\n",
       "      <td>1995-04-01</td>\n",
       "      <td>city of london</td>\n",
       "      <td>77101</td>\n",
       "      <td>E09000001</td>\n",
       "      <td>7.0</td>\n",
       "      <td>NaN</td>\n",
       "    </tr>\n",
       "    <tr>\n",
       "      <th>4</th>\n",
       "      <td>1995-05-01</td>\n",
       "      <td>city of london</td>\n",
       "      <td>84409</td>\n",
       "      <td>E09000001</td>\n",
       "      <td>10.0</td>\n",
       "      <td>NaN</td>\n",
       "    </tr>\n",
       "    <tr>\n",
       "      <th>...</th>\n",
       "      <td>...</td>\n",
       "      <td>...</td>\n",
       "      <td>...</td>\n",
       "      <td>...</td>\n",
       "      <td>...</td>\n",
       "      <td>...</td>\n",
       "    </tr>\n",
       "    <tr>\n",
       "      <th>13544</th>\n",
       "      <td>2019-09-01</td>\n",
       "      <td>england</td>\n",
       "      <td>249942</td>\n",
       "      <td>E92000001</td>\n",
       "      <td>64605.0</td>\n",
       "      <td>NaN</td>\n",
       "    </tr>\n",
       "    <tr>\n",
       "      <th>13545</th>\n",
       "      <td>2019-10-01</td>\n",
       "      <td>england</td>\n",
       "      <td>249376</td>\n",
       "      <td>E92000001</td>\n",
       "      <td>68677.0</td>\n",
       "      <td>NaN</td>\n",
       "    </tr>\n",
       "    <tr>\n",
       "      <th>13546</th>\n",
       "      <td>2019-11-01</td>\n",
       "      <td>england</td>\n",
       "      <td>248515</td>\n",
       "      <td>E92000001</td>\n",
       "      <td>67814.0</td>\n",
       "      <td>NaN</td>\n",
       "    </tr>\n",
       "    <tr>\n",
       "      <th>13547</th>\n",
       "      <td>2019-12-01</td>\n",
       "      <td>england</td>\n",
       "      <td>250410</td>\n",
       "      <td>E92000001</td>\n",
       "      <td>NaN</td>\n",
       "      <td>NaN</td>\n",
       "    </tr>\n",
       "    <tr>\n",
       "      <th>13548</th>\n",
       "      <td>2020-01-01</td>\n",
       "      <td>england</td>\n",
       "      <td>247355</td>\n",
       "      <td>E92000001</td>\n",
       "      <td>NaN</td>\n",
       "      <td>NaN</td>\n",
       "    </tr>\n",
       "  </tbody>\n",
       "</table>\n",
       "<p>13549 rows × 6 columns</p>\n",
       "</div>"
      ],
      "text/plain": [
       "            date            area  average_price       code  houses_sold  \\\n",
       "0     1995-01-01  city of london          91449  E09000001         17.0   \n",
       "1     1995-02-01  city of london          82203  E09000001          7.0   \n",
       "2     1995-03-01  city of london          79121  E09000001         14.0   \n",
       "3     1995-04-01  city of london          77101  E09000001          7.0   \n",
       "4     1995-05-01  city of london          84409  E09000001         10.0   \n",
       "...          ...             ...            ...        ...          ...   \n",
       "13544 2019-09-01         england         249942  E92000001      64605.0   \n",
       "13545 2019-10-01         england         249376  E92000001      68677.0   \n",
       "13546 2019-11-01         england         248515  E92000001      67814.0   \n",
       "13547 2019-12-01         england         250410  E92000001          NaN   \n",
       "13548 2020-01-01         england         247355  E92000001          NaN   \n",
       "\n",
       "       no_of_crimes  \n",
       "0               NaN  \n",
       "1               NaN  \n",
       "2               NaN  \n",
       "3               NaN  \n",
       "4               NaN  \n",
       "...             ...  \n",
       "13544           NaN  \n",
       "13545           NaN  \n",
       "13546           NaN  \n",
       "13547           NaN  \n",
       "13548           NaN  \n",
       "\n",
       "[13549 rows x 6 columns]"
      ]
     },
     "execution_count": 73,
     "metadata": {},
     "output_type": "execute_result"
    }
   ],
   "source": [
    "df"
   ]
  },
  {
   "cell_type": "markdown",
   "metadata": {},
   "source": [
    "### Add new column 'year', which contains years only"
   ]
  },
  {
   "cell_type": "code",
   "execution_count": 76,
   "metadata": {},
   "outputs": [],
   "source": [
    "df['year'] = df['date'].dt.year"
   ]
  },
  {
   "cell_type": "code",
   "execution_count": 77,
   "metadata": {},
   "outputs": [
    {
     "data": {
      "text/html": [
       "<div>\n",
       "<style scoped>\n",
       "    .dataframe tbody tr th:only-of-type {\n",
       "        vertical-align: middle;\n",
       "    }\n",
       "\n",
       "    .dataframe tbody tr th {\n",
       "        vertical-align: top;\n",
       "    }\n",
       "\n",
       "    .dataframe thead th {\n",
       "        text-align: right;\n",
       "    }\n",
       "</style>\n",
       "<table border=\"1\" class=\"dataframe\">\n",
       "  <thead>\n",
       "    <tr style=\"text-align: right;\">\n",
       "      <th></th>\n",
       "      <th>date</th>\n",
       "      <th>area</th>\n",
       "      <th>average_price</th>\n",
       "      <th>code</th>\n",
       "      <th>houses_sold</th>\n",
       "      <th>no_of_crimes</th>\n",
       "      <th>year</th>\n",
       "    </tr>\n",
       "  </thead>\n",
       "  <tbody>\n",
       "    <tr>\n",
       "      <th>0</th>\n",
       "      <td>1995-01-01</td>\n",
       "      <td>city of london</td>\n",
       "      <td>91449</td>\n",
       "      <td>E09000001</td>\n",
       "      <td>17.0</td>\n",
       "      <td>NaN</td>\n",
       "      <td>1995</td>\n",
       "    </tr>\n",
       "    <tr>\n",
       "      <th>1</th>\n",
       "      <td>1995-02-01</td>\n",
       "      <td>city of london</td>\n",
       "      <td>82203</td>\n",
       "      <td>E09000001</td>\n",
       "      <td>7.0</td>\n",
       "      <td>NaN</td>\n",
       "      <td>1995</td>\n",
       "    </tr>\n",
       "    <tr>\n",
       "      <th>2</th>\n",
       "      <td>1995-03-01</td>\n",
       "      <td>city of london</td>\n",
       "      <td>79121</td>\n",
       "      <td>E09000001</td>\n",
       "      <td>14.0</td>\n",
       "      <td>NaN</td>\n",
       "      <td>1995</td>\n",
       "    </tr>\n",
       "    <tr>\n",
       "      <th>3</th>\n",
       "      <td>1995-04-01</td>\n",
       "      <td>city of london</td>\n",
       "      <td>77101</td>\n",
       "      <td>E09000001</td>\n",
       "      <td>7.0</td>\n",
       "      <td>NaN</td>\n",
       "      <td>1995</td>\n",
       "    </tr>\n",
       "    <tr>\n",
       "      <th>4</th>\n",
       "      <td>1995-05-01</td>\n",
       "      <td>city of london</td>\n",
       "      <td>84409</td>\n",
       "      <td>E09000001</td>\n",
       "      <td>10.0</td>\n",
       "      <td>NaN</td>\n",
       "      <td>1995</td>\n",
       "    </tr>\n",
       "    <tr>\n",
       "      <th>5</th>\n",
       "      <td>1995-06-01</td>\n",
       "      <td>city of london</td>\n",
       "      <td>94901</td>\n",
       "      <td>E09000001</td>\n",
       "      <td>17.0</td>\n",
       "      <td>NaN</td>\n",
       "      <td>1995</td>\n",
       "    </tr>\n",
       "    <tr>\n",
       "      <th>6</th>\n",
       "      <td>1995-07-01</td>\n",
       "      <td>city of london</td>\n",
       "      <td>110128</td>\n",
       "      <td>E09000001</td>\n",
       "      <td>13.0</td>\n",
       "      <td>NaN</td>\n",
       "      <td>1995</td>\n",
       "    </tr>\n",
       "    <tr>\n",
       "      <th>7</th>\n",
       "      <td>1995-08-01</td>\n",
       "      <td>city of london</td>\n",
       "      <td>112329</td>\n",
       "      <td>E09000001</td>\n",
       "      <td>14.0</td>\n",
       "      <td>NaN</td>\n",
       "      <td>1995</td>\n",
       "    </tr>\n",
       "    <tr>\n",
       "      <th>8</th>\n",
       "      <td>1995-09-01</td>\n",
       "      <td>city of london</td>\n",
       "      <td>104473</td>\n",
       "      <td>E09000001</td>\n",
       "      <td>17.0</td>\n",
       "      <td>NaN</td>\n",
       "      <td>1995</td>\n",
       "    </tr>\n",
       "    <tr>\n",
       "      <th>9</th>\n",
       "      <td>1995-10-01</td>\n",
       "      <td>city of london</td>\n",
       "      <td>108038</td>\n",
       "      <td>E09000001</td>\n",
       "      <td>14.0</td>\n",
       "      <td>NaN</td>\n",
       "      <td>1995</td>\n",
       "    </tr>\n",
       "  </tbody>\n",
       "</table>\n",
       "</div>"
      ],
      "text/plain": [
       "        date            area  average_price       code  houses_sold  \\\n",
       "0 1995-01-01  city of london          91449  E09000001         17.0   \n",
       "1 1995-02-01  city of london          82203  E09000001          7.0   \n",
       "2 1995-03-01  city of london          79121  E09000001         14.0   \n",
       "3 1995-04-01  city of london          77101  E09000001          7.0   \n",
       "4 1995-05-01  city of london          84409  E09000001         10.0   \n",
       "5 1995-06-01  city of london          94901  E09000001         17.0   \n",
       "6 1995-07-01  city of london         110128  E09000001         13.0   \n",
       "7 1995-08-01  city of london         112329  E09000001         14.0   \n",
       "8 1995-09-01  city of london         104473  E09000001         17.0   \n",
       "9 1995-10-01  city of london         108038  E09000001         14.0   \n",
       "\n",
       "   no_of_crimes  year  \n",
       "0           NaN  1995  \n",
       "1           NaN  1995  \n",
       "2           NaN  1995  \n",
       "3           NaN  1995  \n",
       "4           NaN  1995  \n",
       "5           NaN  1995  \n",
       "6           NaN  1995  \n",
       "7           NaN  1995  \n",
       "8           NaN  1995  \n",
       "9           NaN  1995  "
      ]
     },
     "execution_count": 77,
     "metadata": {},
     "output_type": "execute_result"
    }
   ],
   "source": [
    "df.head(10)"
   ]
  },
  {
   "cell_type": "markdown",
   "metadata": {},
   "source": [
    "### Add  a 'Day'  column as 2nd columns in the dataframe , which contains day only"
   ]
  },
  {
   "cell_type": "code",
   "execution_count": 80,
   "metadata": {},
   "outputs": [],
   "source": [
    "df.insert(2, 'day', df['date'].dt.day)"
   ]
  },
  {
   "cell_type": "code",
   "execution_count": 84,
   "metadata": {},
   "outputs": [
    {
     "data": {
      "text/html": [
       "<div>\n",
       "<style scoped>\n",
       "    .dataframe tbody tr th:only-of-type {\n",
       "        vertical-align: middle;\n",
       "    }\n",
       "\n",
       "    .dataframe tbody tr th {\n",
       "        vertical-align: top;\n",
       "    }\n",
       "\n",
       "    .dataframe thead th {\n",
       "        text-align: right;\n",
       "    }\n",
       "</style>\n",
       "<table border=\"1\" class=\"dataframe\">\n",
       "  <thead>\n",
       "    <tr style=\"text-align: right;\">\n",
       "      <th></th>\n",
       "      <th>date</th>\n",
       "      <th>area</th>\n",
       "      <th>day</th>\n",
       "      <th>average_price</th>\n",
       "      <th>code</th>\n",
       "      <th>houses_sold</th>\n",
       "      <th>no_of_crimes</th>\n",
       "      <th>year</th>\n",
       "    </tr>\n",
       "  </thead>\n",
       "  <tbody>\n",
       "    <tr>\n",
       "      <th>0</th>\n",
       "      <td>1995-01-01</td>\n",
       "      <td>city of london</td>\n",
       "      <td>1</td>\n",
       "      <td>91449</td>\n",
       "      <td>E09000001</td>\n",
       "      <td>17.0</td>\n",
       "      <td>NaN</td>\n",
       "      <td>1995</td>\n",
       "    </tr>\n",
       "    <tr>\n",
       "      <th>1</th>\n",
       "      <td>1995-02-01</td>\n",
       "      <td>city of london</td>\n",
       "      <td>1</td>\n",
       "      <td>82203</td>\n",
       "      <td>E09000001</td>\n",
       "      <td>7.0</td>\n",
       "      <td>NaN</td>\n",
       "      <td>1995</td>\n",
       "    </tr>\n",
       "    <tr>\n",
       "      <th>2</th>\n",
       "      <td>1995-03-01</td>\n",
       "      <td>city of london</td>\n",
       "      <td>1</td>\n",
       "      <td>79121</td>\n",
       "      <td>E09000001</td>\n",
       "      <td>14.0</td>\n",
       "      <td>NaN</td>\n",
       "      <td>1995</td>\n",
       "    </tr>\n",
       "    <tr>\n",
       "      <th>3</th>\n",
       "      <td>1995-04-01</td>\n",
       "      <td>city of london</td>\n",
       "      <td>1</td>\n",
       "      <td>77101</td>\n",
       "      <td>E09000001</td>\n",
       "      <td>7.0</td>\n",
       "      <td>NaN</td>\n",
       "      <td>1995</td>\n",
       "    </tr>\n",
       "    <tr>\n",
       "      <th>4</th>\n",
       "      <td>1995-05-01</td>\n",
       "      <td>city of london</td>\n",
       "      <td>1</td>\n",
       "      <td>84409</td>\n",
       "      <td>E09000001</td>\n",
       "      <td>10.0</td>\n",
       "      <td>NaN</td>\n",
       "      <td>1995</td>\n",
       "    </tr>\n",
       "  </tbody>\n",
       "</table>\n",
       "</div>"
      ],
      "text/plain": [
       "        date            area  day  average_price       code  houses_sold  \\\n",
       "0 1995-01-01  city of london    1          91449  E09000001         17.0   \n",
       "1 1995-02-01  city of london    1          82203  E09000001          7.0   \n",
       "2 1995-03-01  city of london    1          79121  E09000001         14.0   \n",
       "3 1995-04-01  city of london    1          77101  E09000001          7.0   \n",
       "4 1995-05-01  city of london    1          84409  E09000001         10.0   \n",
       "\n",
       "   no_of_crimes  year  \n",
       "0           NaN  1995  \n",
       "1           NaN  1995  \n",
       "2           NaN  1995  \n",
       "3           NaN  1995  \n",
       "4           NaN  1995  "
      ]
     },
     "execution_count": 84,
     "metadata": {},
     "output_type": "execute_result"
    }
   ],
   "source": [
    "df.head()"
   ]
  },
  {
   "cell_type": "markdown",
   "metadata": {},
   "source": [
    "### show  the all records where no.of crimes is 0"
   ]
  },
  {
   "cell_type": "code",
   "execution_count": 86,
   "metadata": {
    "scrolled": true
   },
   "outputs": [
    {
     "data": {
      "text/html": [
       "<div>\n",
       "<style scoped>\n",
       "    .dataframe tbody tr th:only-of-type {\n",
       "        vertical-align: middle;\n",
       "    }\n",
       "\n",
       "    .dataframe tbody tr th {\n",
       "        vertical-align: top;\n",
       "    }\n",
       "\n",
       "    .dataframe thead th {\n",
       "        text-align: right;\n",
       "    }\n",
       "</style>\n",
       "<table border=\"1\" class=\"dataframe\">\n",
       "  <thead>\n",
       "    <tr style=\"text-align: right;\">\n",
       "      <th></th>\n",
       "      <th>date</th>\n",
       "      <th>area</th>\n",
       "      <th>day</th>\n",
       "      <th>average_price</th>\n",
       "      <th>code</th>\n",
       "      <th>houses_sold</th>\n",
       "      <th>no_of_crimes</th>\n",
       "      <th>year</th>\n",
       "    </tr>\n",
       "  </thead>\n",
       "  <tbody>\n",
       "    <tr>\n",
       "      <th>72</th>\n",
       "      <td>2001-01-01</td>\n",
       "      <td>city of london</td>\n",
       "      <td>1</td>\n",
       "      <td>284262</td>\n",
       "      <td>E09000001</td>\n",
       "      <td>24.0</td>\n",
       "      <td>0.0</td>\n",
       "      <td>2001</td>\n",
       "    </tr>\n",
       "    <tr>\n",
       "      <th>73</th>\n",
       "      <td>2001-02-01</td>\n",
       "      <td>city of london</td>\n",
       "      <td>1</td>\n",
       "      <td>198137</td>\n",
       "      <td>E09000001</td>\n",
       "      <td>37.0</td>\n",
       "      <td>0.0</td>\n",
       "      <td>2001</td>\n",
       "    </tr>\n",
       "    <tr>\n",
       "      <th>74</th>\n",
       "      <td>2001-03-01</td>\n",
       "      <td>city of london</td>\n",
       "      <td>1</td>\n",
       "      <td>189033</td>\n",
       "      <td>E09000001</td>\n",
       "      <td>44.0</td>\n",
       "      <td>0.0</td>\n",
       "      <td>2001</td>\n",
       "    </tr>\n",
       "    <tr>\n",
       "      <th>75</th>\n",
       "      <td>2001-04-01</td>\n",
       "      <td>city of london</td>\n",
       "      <td>1</td>\n",
       "      <td>205494</td>\n",
       "      <td>E09000001</td>\n",
       "      <td>38.0</td>\n",
       "      <td>0.0</td>\n",
       "      <td>2001</td>\n",
       "    </tr>\n",
       "    <tr>\n",
       "      <th>76</th>\n",
       "      <td>2001-05-01</td>\n",
       "      <td>city of london</td>\n",
       "      <td>1</td>\n",
       "      <td>223459</td>\n",
       "      <td>E09000001</td>\n",
       "      <td>30.0</td>\n",
       "      <td>0.0</td>\n",
       "      <td>2001</td>\n",
       "    </tr>\n",
       "    <tr>\n",
       "      <th>...</th>\n",
       "      <td>...</td>\n",
       "      <td>...</td>\n",
       "      <td>...</td>\n",
       "      <td>...</td>\n",
       "      <td>...</td>\n",
       "      <td>...</td>\n",
       "      <td>...</td>\n",
       "      <td>...</td>\n",
       "    </tr>\n",
       "    <tr>\n",
       "      <th>178</th>\n",
       "      <td>2009-11-01</td>\n",
       "      <td>city of london</td>\n",
       "      <td>1</td>\n",
       "      <td>397909</td>\n",
       "      <td>E09000001</td>\n",
       "      <td>11.0</td>\n",
       "      <td>0.0</td>\n",
       "      <td>2009</td>\n",
       "    </tr>\n",
       "    <tr>\n",
       "      <th>179</th>\n",
       "      <td>2009-12-01</td>\n",
       "      <td>city of london</td>\n",
       "      <td>1</td>\n",
       "      <td>411955</td>\n",
       "      <td>E09000001</td>\n",
       "      <td>16.0</td>\n",
       "      <td>0.0</td>\n",
       "      <td>2009</td>\n",
       "    </tr>\n",
       "    <tr>\n",
       "      <th>180</th>\n",
       "      <td>2010-01-01</td>\n",
       "      <td>city of london</td>\n",
       "      <td>1</td>\n",
       "      <td>464436</td>\n",
       "      <td>E09000001</td>\n",
       "      <td>20.0</td>\n",
       "      <td>0.0</td>\n",
       "      <td>2010</td>\n",
       "    </tr>\n",
       "    <tr>\n",
       "      <th>181</th>\n",
       "      <td>2010-02-01</td>\n",
       "      <td>city of london</td>\n",
       "      <td>1</td>\n",
       "      <td>490525</td>\n",
       "      <td>E09000001</td>\n",
       "      <td>9.0</td>\n",
       "      <td>0.0</td>\n",
       "      <td>2010</td>\n",
       "    </tr>\n",
       "    <tr>\n",
       "      <th>182</th>\n",
       "      <td>2010-03-01</td>\n",
       "      <td>city of london</td>\n",
       "      <td>1</td>\n",
       "      <td>498241</td>\n",
       "      <td>E09000001</td>\n",
       "      <td>15.0</td>\n",
       "      <td>0.0</td>\n",
       "      <td>2010</td>\n",
       "    </tr>\n",
       "  </tbody>\n",
       "</table>\n",
       "<p>104 rows × 8 columns</p>\n",
       "</div>"
      ],
      "text/plain": [
       "          date            area  day  average_price       code  houses_sold  \\\n",
       "72  2001-01-01  city of london    1         284262  E09000001         24.0   \n",
       "73  2001-02-01  city of london    1         198137  E09000001         37.0   \n",
       "74  2001-03-01  city of london    1         189033  E09000001         44.0   \n",
       "75  2001-04-01  city of london    1         205494  E09000001         38.0   \n",
       "76  2001-05-01  city of london    1         223459  E09000001         30.0   \n",
       "..         ...             ...  ...            ...        ...          ...   \n",
       "178 2009-11-01  city of london    1         397909  E09000001         11.0   \n",
       "179 2009-12-01  city of london    1         411955  E09000001         16.0   \n",
       "180 2010-01-01  city of london    1         464436  E09000001         20.0   \n",
       "181 2010-02-01  city of london    1         490525  E09000001          9.0   \n",
       "182 2010-03-01  city of london    1         498241  E09000001         15.0   \n",
       "\n",
       "     no_of_crimes  year  \n",
       "72            0.0  2001  \n",
       "73            0.0  2001  \n",
       "74            0.0  2001  \n",
       "75            0.0  2001  \n",
       "76            0.0  2001  \n",
       "..            ...   ...  \n",
       "178           0.0  2009  \n",
       "179           0.0  2009  \n",
       "180           0.0  2010  \n",
       "181           0.0  2010  \n",
       "182           0.0  2010  \n",
       "\n",
       "[104 rows x 8 columns]"
      ]
     },
     "execution_count": 86,
     "metadata": {},
     "output_type": "execute_result"
    }
   ],
   "source": [
    "df[df['no_of_crimes'] == 0]"
   ]
  },
  {
   "cell_type": "markdown",
   "metadata": {},
   "source": [
    "### What is the  Maximum & minimum 'average_price'  per year in england"
   ]
  },
  {
   "cell_type": "code",
   "execution_count": 91,
   "metadata": {},
   "outputs": [
    {
     "data": {
      "text/plain": [
       "array(['city of london', 'barking and dagenham', 'barnet', 'bexley',\n",
       "       'brent', 'bromley', 'camden', 'croydon', 'ealing', 'enfield',\n",
       "       'tower hamlets', 'greenwich', 'hackney', 'south east',\n",
       "       'hammersmith and fulham', 'haringey', 'harrow', 'havering',\n",
       "       'hillingdon', 'hounslow', 'islington', 'kensington and chelsea',\n",
       "       'kingston upon thames', 'lambeth', 'lewisham', 'merton', 'newham',\n",
       "       'redbridge', 'richmond upon thames', 'southwark', 'sutton',\n",
       "       'waltham forest', 'wandsworth', 'westminster', 'inner london',\n",
       "       'outer london', 'north east', 'north west', 'yorks and the humber',\n",
       "       'east midlands', 'west midlands', 'east of england', 'london',\n",
       "       'south west', 'england'], dtype=object)"
      ]
     },
     "execution_count": 91,
     "metadata": {},
     "output_type": "execute_result"
    }
   ],
   "source": [
    "## No.of areas in London\n",
    "df['area'].unique()"
   ]
  },
  {
   "cell_type": "code",
   "execution_count": 93,
   "metadata": {},
   "outputs": [],
   "source": [
    "eng = df[df['area'] == 'england']"
   ]
  },
  {
   "cell_type": "code",
   "execution_count": 164,
   "metadata": {},
   "outputs": [
    {
     "data": {
      "text/plain": [
       "year\n",
       "1995     53901\n",
       "1996     55755\n",
       "1997     61564\n",
       "1998     65743\n",
       "1999     75071\n",
       "2000     84191\n",
       "2001     95992\n",
       "2002    119982\n",
       "2003    138985\n",
       "2004    160330\n",
       "2005    167244\n",
       "2006    182031\n",
       "2007    194764\n",
       "2008    191750\n",
       "2009    174136\n",
       "2010    180807\n",
       "2011    177335\n",
       "2012    180129\n",
       "2013    188544\n",
       "2014    203639\n",
       "2015    219582\n",
       "2016    231922\n",
       "2017    242628\n",
       "2018    248620\n",
       "2019    250410\n",
       "2020    247355\n",
       "Name: average_price, dtype: int64"
      ]
     },
     "execution_count": 164,
     "metadata": {},
     "output_type": "execute_result"
    }
   ],
   "source": [
    "#Maximum prices year vice\n",
    "\n",
    "eng.groupby('year').average_price.max()"
   ]
  },
  {
   "cell_type": "code",
   "execution_count": 101,
   "metadata": {},
   "outputs": [
    {
     "data": {
      "text/plain": [
       "year\n",
       "1995     52788\n",
       "1996     52333\n",
       "1997     55789\n",
       "1998     61659\n",
       "1999     65522\n",
       "2000     75219\n",
       "2001     84245\n",
       "2002     96215\n",
       "2003    121610\n",
       "2004    139719\n",
       "2005    158572\n",
       "2006    166544\n",
       "2007    181824\n",
       "2008    165795\n",
       "2009    159340\n",
       "2010    174458\n",
       "2011    173046\n",
       "2012    174161\n",
       "2013    176816\n",
       "2014    188265\n",
       "2015    202856\n",
       "2016    220361\n",
       "2017    231593\n",
       "2018    240428\n",
       "2019    243281\n",
       "2020    247355\n",
       "Name: average_price, dtype: int64"
      ]
     },
     "execution_count": 101,
     "metadata": {},
     "output_type": "execute_result"
    }
   ],
   "source": [
    "# minimum value\n",
    "eng.groupby('year').average_price.min()"
   ]
  },
  {
   "cell_type": "markdown",
   "metadata": {},
   "source": [
    "### What is the Max & Min no.of crimes recorded per Area"
   ]
  },
  {
   "cell_type": "code",
   "execution_count": 105,
   "metadata": {},
   "outputs": [
    {
     "data": {
      "text/plain": [
       "area\n",
       "westminster               7461.0\n",
       "lambeth                   4701.0\n",
       "camden                    4558.0\n",
       "southwark                 3821.0\n",
       "newham                    3668.0\n",
       "hackney                   3466.0\n",
       "ealing                    3401.0\n",
       "islington                 3384.0\n",
       "tower hamlets             3316.0\n",
       "croydon                   3263.0\n",
       "haringey                  3199.0\n",
       "wandsworth                3051.0\n",
       "waltham forest            2941.0\n",
       "brent                     2937.0\n",
       "barnet                    2893.0\n",
       "greenwich                 2853.0\n",
       "hillingdon                2819.0\n",
       "hounslow                  2817.0\n",
       "lewisham                  2813.0\n",
       "enfield                   2798.0\n",
       "kensington and chelsea    2778.0\n",
       "hammersmith and fulham    2645.0\n",
       "bromley                   2637.0\n",
       "redbridge                 2560.0\n",
       "barking and dagenham      2049.0\n",
       "havering                  1956.0\n",
       "bexley                    1914.0\n",
       "harrow                    1763.0\n",
       "merton                    1623.0\n",
       "richmond upon thames      1551.0\n",
       "sutton                    1425.0\n",
       "kingston upon thames      1379.0\n",
       "city of london              10.0\n",
       "east midlands                NaN\n",
       "east of england              NaN\n",
       "england                      NaN\n",
       "inner london                 NaN\n",
       "london                       NaN\n",
       "north east                   NaN\n",
       "north west                   NaN\n",
       "outer london                 NaN\n",
       "south east                   NaN\n",
       "south west                   NaN\n",
       "west midlands                NaN\n",
       "yorks and the humber         NaN\n",
       "Name: no_of_crimes, dtype: float64"
      ]
     },
     "execution_count": 105,
     "metadata": {},
     "output_type": "execute_result"
    }
   ],
   "source": [
    "df.groupby('area').no_of_crimes.max().sort_values(ascending= False)"
   ]
  },
  {
   "cell_type": "markdown",
   "metadata": {},
   "source": [
    "####  westminster is high crimes happended"
   ]
  },
  {
   "cell_type": "code",
   "execution_count": 108,
   "metadata": {},
   "outputs": [
    {
     "data": {
      "text/plain": [
       "area\n",
       "westminster               3504.0\n",
       "lambeth                   2381.0\n",
       "southwark                 2267.0\n",
       "newham                    2130.0\n",
       "camden                    2079.0\n",
       "croydon                   2031.0\n",
       "islington                 1871.0\n",
       "ealing                    1871.0\n",
       "hackney                   1870.0\n",
       "brent                     1850.0\n",
       "barnet                    1703.0\n",
       "lewisham                  1675.0\n",
       "tower hamlets             1646.0\n",
       "enfield                   1635.0\n",
       "wandsworth                1582.0\n",
       "waltham forest            1575.0\n",
       "haringey                  1536.0\n",
       "hounslow                  1529.0\n",
       "greenwich                 1513.0\n",
       "redbridge                 1487.0\n",
       "hillingdon                1445.0\n",
       "bromley                   1441.0\n",
       "kensington and chelsea    1347.0\n",
       "hammersmith and fulham    1323.0\n",
       "barking and dagenham      1217.0\n",
       "havering                  1130.0\n",
       "harrow                     937.0\n",
       "bexley                     860.0\n",
       "merton                     819.0\n",
       "sutton                     787.0\n",
       "richmond upon thames       700.0\n",
       "kingston upon thames       692.0\n",
       "city of london               0.0\n",
       "east midlands                NaN\n",
       "east of england              NaN\n",
       "england                      NaN\n",
       "inner london                 NaN\n",
       "london                       NaN\n",
       "north east                   NaN\n",
       "north west                   NaN\n",
       "outer london                 NaN\n",
       "south east                   NaN\n",
       "south west                   NaN\n",
       "west midlands                NaN\n",
       "yorks and the humber         NaN\n",
       "Name: no_of_crimes, dtype: float64"
      ]
     },
     "execution_count": 108,
     "metadata": {},
     "output_type": "execute_result"
    }
   ],
   "source": [
    "df.groupby('area').no_of_crimes.min().sort_values(ascending = False)"
   ]
  },
  {
   "cell_type": "markdown",
   "metadata": {},
   "source": [
    "### Show the average_price  greater than 100000 in  each area and also display the number of crimes"
   ]
  },
  {
   "cell_type": "code",
   "execution_count": 123,
   "metadata": {},
   "outputs": [],
   "source": [
    "area = df[df['average_price'] > 100000]"
   ]
  },
  {
   "cell_type": "code",
   "execution_count": 172,
   "metadata": {},
   "outputs": [
    {
     "data": {
      "text/plain": [
       "kensington and chelsea    301\n",
       "richmond upon thames      301\n",
       "hammersmith and fulham    301\n",
       "westminster               301\n",
       "camden                    301\n",
       "city of london            290\n",
       "islington                 282\n",
       "barnet                    276\n",
       "wandsworth                275\n",
       "kingston upon thames      271\n",
       "harrow                    271\n",
       "inner london              270\n",
       "ealing                    270\n",
       "haringey                  268\n",
       "bromley                   268\n",
       "merton                    266\n",
       "london                    262\n",
       "brent                     261\n",
       "hounslow                  260\n",
       "lambeth                   260\n",
       "hillingdon                257\n",
       "tower hamlets             255\n",
       "outer london              255\n",
       "southwark                 253\n",
       "redbridge                 249\n",
       "hackney                   249\n",
       "enfield                   248\n",
       "sutton                    247\n",
       "croydon                   244\n",
       "south east                243\n",
       "greenwich                 242\n",
       "havering                  241\n",
       "lewisham                  239\n",
       "bexley                    237\n",
       "waltham forest            237\n",
       "newham                    229\n",
       "east of england           225\n",
       "south west                223\n",
       "barking and dagenham      216\n",
       "england                   214\n",
       "west midlands             207\n",
       "east midlands             205\n",
       "yorks and the humber      191\n",
       "north west                190\n",
       "north east                189\n",
       "Name: area, dtype: int64"
      ]
     },
     "execution_count": 172,
     "metadata": {},
     "output_type": "execute_result"
    }
   ],
   "source": [
    "area['area'].value_counts()"
   ]
  }
 ],
 "metadata": {
  "kernelspec": {
   "display_name": "Python 3",
   "language": "python",
   "name": "python3"
  },
  "language_info": {
   "codemirror_mode": {
    "name": "ipython",
    "version": 3
   },
   "file_extension": ".py",
   "mimetype": "text/x-python",
   "name": "python",
   "nbconvert_exporter": "python",
   "pygments_lexer": "ipython3",
   "version": "3.8.5"
  }
 },
 "nbformat": 4,
 "nbformat_minor": 4
}
